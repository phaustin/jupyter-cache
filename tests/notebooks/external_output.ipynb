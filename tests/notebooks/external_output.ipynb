{
  "cells": [
    {
      "cell_type": "markdown",
      "metadata": {},
      "source": [
        "# a title\n",
        "\n",
        "some text\n"
      ]
    },
    {
      "cell_type": "code",
      "execution_count": 1,
      "metadata": {},
      "source": [
        "with open('artifact.txt', 'w',encoding=\"utf-8\") as handle:"
      ],
      "outputs": []
    },
    {
      "cell_type": "code",
      "execution_count": null,
      "metadata": {},
      "outputs": [],
      "source": []
    }
  ],
  "metadata": {
    "test_name": "notebook1",
    "kernelspec": {
      "display_name": "Python 3.7.6 64-bit ('wintest': conda)",
      "language": "python",
      "name": "python37664bitwintestconda98645fcb790a40ef81b350c15db9f1ca"
    },
    "language_info": {
      "codemirror_mode": {
        "name": "ipython",
        "version": 3
      },
      "file_extension": ".py",
      "mimetype": "text/x-python",
      "name": "python",
      "nbconvert_exporter": "python",
      "pygments_lexer": "ipython3",
      "version": "3.7.6-final"
    }
  },
  "nbformat": 4,
  "nbformat_minor": 2
}